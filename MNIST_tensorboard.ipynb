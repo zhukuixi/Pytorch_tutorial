{
  "nbformat": 4,
  "nbformat_minor": 0,
  "metadata": {
    "colab": {
      "provenance": [],
      "authorship_tag": "ABX9TyMqR0QhuaeVQ896mqp+hXF9",
      "include_colab_link": true
    },
    "kernelspec": {
      "name": "python3",
      "display_name": "Python 3"
    },
    "language_info": {
      "name": "python"
    }
  },
  "cells": [
    {
      "cell_type": "markdown",
      "metadata": {
        "id": "view-in-github",
        "colab_type": "text"
      },
      "source": [
        "<a href=\"https://colab.research.google.com/github/zhukuixi/Pytorch_tutorial/blob/main/MNIST_tensorboard.ipynb\" target=\"_parent\"><img src=\"https://colab.research.google.com/assets/colab-badge.svg\" alt=\"Open In Colab\"/></a>"
      ]
    },
    {
      "cell_type": "code",
      "execution_count": 33,
      "metadata": {
        "id": "ypaNkC9VdCjl"
      },
      "outputs": [],
      "source": [
        "import torch\n",
        "import pandas as pd\n",
        "import numpy as np\n",
        "from torch.utils.data import DataLoader\n",
        "from torchvision import transforms\n",
        "from torchvision import datasets\n",
        "import matplotlib.pyplot as plt\n",
        "import torchvision\n",
        "import tensorflow as tf\n",
        "import tensorboard as tb\n",
        "tf.io.gfile = tb.compat.tensorflow_stub.io.gfile"
      ]
    },
    {
      "cell_type": "code",
      "source": [
        "batch_size=64\n",
        "\n",
        "transform = transforms.Compose([transforms.ToTensor(),\n",
        "                transforms.Normalize((0.1307,),(0.3081,))            \n",
        "                 ])\n",
        "\n",
        "\n",
        "train_dataset = datasets.MNIST(root=\"../dataset/mnist/\",train=True,download=True,transform=transform)\n",
        "train_loader = DataLoader(train_dataset,shuffle=True,batch_size=batch_size)\n",
        "\n",
        "test_dataset = datasets.MNIST(root=\"../dataset/mnist/\",train=False,download=True,transform=transform)\n",
        "test_loader = DataLoader(test_dataset,shuffle=False,batch_size=batch_size)\n",
        "\n",
        "classes=[0,1,2,3,4,5,6,7,8,9]"
      ],
      "metadata": {
        "id": "ukU1zEGLE9Ou"
      },
      "execution_count": 105,
      "outputs": []
    },
    {
      "cell_type": "code",
      "source": [
        "# metric - accuracy\n",
        "def accuracy(y_hat,y):\n",
        "  #“==”opearation is sensitive to dype \n",
        "  # we need to do the dtype transformation before == operation\n",
        "  if len(y_hat)>1 and y_hat.shape[1]>1:\n",
        "      y_hat = y_hat.argmax(axis=1)\n",
        "  return (y_hat.type(y.dtype)==y).sum()\n",
        "  \n",
        "class logisticNet(torch.nn.Module):\n",
        "  def __init__(self):\n",
        "    super().__init__()\n",
        "    self.flatten = torch.nn.Flatten()\n",
        "    self.linear = torch.nn.Linear(784,10)\n",
        "  def forward(self,x):\n",
        "    return torch.sigmoid(self.linear(self.flatten(x)))\n",
        "\n",
        "net = logisticNet()\n"
      ],
      "metadata": {
        "id": "nZvX9exATUtJ"
      },
      "execution_count": null,
      "outputs": []
    },
    {
      "cell_type": "markdown",
      "source": [
        "If the port is busy you can kill the PID occupied the port\n",
        "In this example,6006 is the port number. After you type in the first command\n",
        ", you can see the PID(11636 in this case)\n",
        "\n"
      ],
      "metadata": {
        "id": "Ch8hxoqoSDnX"
      }
    },
    {
      "cell_type": "code",
      "source": [
        "#!lsof -i:6006\n",
        "#!kill -9 16166"
      ],
      "metadata": {
        "id": "HGQ7Tv7eEWNc"
      },
      "execution_count": 102,
      "outputs": []
    },
    {
      "cell_type": "markdown",
      "source": [
        "load the tensorboard  \n",
        "**runs** here is the folder name storeing the logs"
      ],
      "metadata": {
        "id": "omVsj6ptSZvT"
      }
    },
    {
      "cell_type": "code",
      "source": [
        "%load_ext tensorboard\n",
        "%tensorboard --logdir runs"
      ],
      "metadata": {
        "colab": {
          "base_uri": "https://localhost:8080/",
          "height": 875
        },
        "id": "aPt7zYdvAK0T",
        "outputId": "8bb5f78f-4037-4b66-e847-48055cc84ac6"
      },
      "execution_count": 103,
      "outputs": [
        {
          "output_type": "stream",
          "name": "stdout",
          "text": [
            "The tensorboard extension is already loaded. To reload it, use:\n",
            "  %reload_ext tensorboard\n"
          ]
        },
        {
          "output_type": "display_data",
          "data": {
            "text/plain": [
              "Reusing TensorBoard on port 6006 (pid 16166), started 1:42:38 ago. (Use '!kill 16166' to kill it.)"
            ]
          },
          "metadata": {}
        },
        {
          "output_type": "display_data",
          "data": {
            "text/plain": [
              "<IPython.core.display.Javascript object>"
            ],
            "application/javascript": [
              "\n",
              "        (async () => {\n",
              "            const url = new URL(await google.colab.kernel.proxyPort(6006, {'cache': true}));\n",
              "            url.searchParams.set('tensorboardColab', 'true');\n",
              "            const iframe = document.createElement('iframe');\n",
              "            iframe.src = url;\n",
              "            iframe.setAttribute('width', '100%');\n",
              "            iframe.setAttribute('height', '800');\n",
              "            iframe.setAttribute('frameborder', 0);\n",
              "            document.body.appendChild(iframe);\n",
              "        })();\n",
              "    "
            ]
          },
          "metadata": {}
        }
      ]
    },
    {
      "cell_type": "markdown",
      "source": [
        "Create the SummaryWriter object"
      ],
      "metadata": {
        "id": "94oLlxS9S5SO"
      }
    },
    {
      "cell_type": "code",
      "source": [
        "from torch.utils.tensorboard import SummaryWriter\n",
        "\n",
        "# specify the output folder of log \n",
        "writer = SummaryWriter('runs/mnist_experiment_1')"
      ],
      "metadata": {
        "id": "fXog8Z5q86CR"
      },
      "execution_count": 98,
      "outputs": []
    },
    {
      "cell_type": "code",
      "source": [
        "# helper function to show an image\n",
        "# (used in the `plot_classes_preds` function below)\n",
        "def matplotlib_imshow(img, one_channel=False):\n",
        "    if one_channel:\n",
        "        img = img.mean(dim=0)\n",
        "    img = img * 0.3081 + 0.1307      # unnormalize\n",
        "    npimg = img.numpy()\n",
        "    if one_channel:\n",
        "        plt.imshow(npimg, cmap=\"Greys\")\n",
        "    else:\n",
        "        plt.imshow(np.transpose(npimg, (1, 2, 0)))"
      ],
      "metadata": {
        "id": "nUi6XKnB9iDI"
      },
      "execution_count": 76,
      "outputs": []
    },
    {
      "cell_type": "markdown",
      "source": [
        "Add some images to tensorboard"
      ],
      "metadata": {
        "id": "FZa2_WcoTEmf"
      }
    },
    {
      "cell_type": "code",
      "source": [
        "# get some random training images\n",
        "dataiter = iter(train_loader)\n",
        "images, labels = next(dataiter)\n",
        "\n",
        "# create grid of images\n",
        "img_grid = torchvision.utils.make_grid(images)\n",
        "\n",
        "# show images\n",
        "matplotlib_imshow(img_grid, one_channel=False)\n",
        "\n",
        "# write to tensorboard\n",
        "writer.add_image('One_batch_mnist_images', img_grid)"
      ],
      "metadata": {
        "colab": {
          "base_uri": "https://localhost:8080/",
          "height": 269
        },
        "id": "0a7CIsYT9PB-",
        "outputId": "ab8a9519-d5db-45e1-e7b1-32c8d4f38098"
      },
      "execution_count": 91,
      "outputs": [
        {
          "output_type": "display_data",
          "data": {
            "text/plain": [
              "<Figure size 432x288 with 1 Axes>"
            ],
            "image/png": "[encoded data removed]"
          },
          "metadata": {
            "needs_background": "light"
          }
        }
      ]
    },
    {
      "cell_type": "markdown",
      "source": [
        "Add the network model to the tensorboard"
      ],
      "metadata": {
        "id": "JJxNRGT4S_vf"
      }
    },
    {
      "cell_type": "code",
      "source": [
        "writer.add_graph(net, images)\n"
      ],
      "metadata": {
        "id": "sfgddk1O-AA9"
      },
      "execution_count": 78,
      "outputs": []
    },
    {
      "cell_type": "markdown",
      "source": [],
      "metadata": {
        "id": "EpKYRqI3UTdB"
      }
    },
    {
      "cell_type": "code",
      "source": [
        "# helper functions\n",
        "\n",
        "def images_to_probs(net, images):\n",
        "    '''\n",
        "    Generates predictions and corresponding probabilities from a trained\n",
        "    network and a list of images\n",
        "    '''\n",
        "    output = net(images)\n",
        "    # convert output probabilities to predicted class\n",
        "    _, preds_tensor = torch.max(output, 1)\n",
        "    preds = np.squeeze(preds_tensor.numpy())\n",
        "    return preds, [torch.softmax(el, dim=0)[i].item() for i, el in zip(preds, output)]\n",
        "\n",
        "\n",
        "def plot_classes_preds(net, images, labels):\n",
        "    '''\n",
        "    Generates matplotlib Figure using a trained network, along with images\n",
        "    and labels from a batch, that shows the network's top prediction along\n",
        "    with its probability, alongside the actual label, coloring this\n",
        "    information based on whether the prediction was correct or not.\n",
        "    Uses the \"images_to_probs\" function.\n",
        "    '''\n",
        "    preds, probs = images_to_probs(net, images)\n",
        "    # plot the images in the batch, along with predicted and true labels\n",
        "    fig = plt.figure(figsize=(12, 48))\n",
        "    for idx in np.arange(4):\n",
        "        ax = fig.add_subplot(1, 4, idx+1, xticks=[], yticks=[])\n",
        "        matplotlib_imshow(images[idx], one_channel=True)\n",
        "        ax.set_title(\"{0}, {1:.1f}%\\n(label: {2})\".format(\n",
        "            classes[preds[idx]],\n",
        "            probs[idx] * 100.0,\n",
        "            classes[labels[idx]]),\n",
        "                    color=(\"green\" if preds[idx]==labels[idx].item() else \"red\"))\n",
        "    return fig"
      ],
      "metadata": {
        "id": "4qzQd6daUTx4"
      },
      "execution_count": 106,
      "outputs": []
    },
    {
      "cell_type": "code",
      "source": [
        "\n",
        "\n",
        "criterion = torch.nn.CrossEntropyLoss()\n",
        "optimizier = torch.optim.SGD(net.parameters(),lr=0.1)\n",
        "\n",
        "for epoch in np.arange(100):\n",
        "  for i,data in enumerate(train_loader):\n",
        "    X,y = data\n",
        "    optimizier.zero_grad()\n",
        "    y_hat = net(X)\n",
        "    loss = criterion(y_hat, y)  \n",
        "    loss.mean().backward()\n",
        "    optimizier.step()\n",
        "    print(\"{:.3}\".format(loss.mean().item()))\n",
        "\n",
        "    with torch.no_grad():\n",
        "      acc = 0      \n",
        "      count = 0 \n",
        "      for X_test,y_test in test_loader:\n",
        "        acc += accuracy(net(X_test),y_test)\n",
        "        count += y_test.numel()\n",
        "      print(\"test accuracy:{:.3}\".format(acc/count))\n",
        "    if i % 1000 == 999:    # every 1000 mini-batches...\n",
        "      # ...log the running loss\n",
        "      writer.add_scalar('training loss',\n",
        "                      running_loss / 1000,\n",
        "                      epoch * len(trainloader) + i)\n",
        "\n",
        "      # ...log a Matplotlib Figure showing the model's predictions on a\n",
        "      # random mini-batch\n",
        "      writer.add_figure('predictions vs. actuals',\n",
        "                      plot_classes_preds(net, inputs, labels),\n",
        "                      global_step=epoch * len(trainloader) + i)\n",
        "      running_loss = 0.0\n",
        "\n"
      ],
      "metadata": {
        "id": "4NF_i3SLdVgJ"
      },
      "execution_count": null,
      "outputs": []
    }
  ]
}