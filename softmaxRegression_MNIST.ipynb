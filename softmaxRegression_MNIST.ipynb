{
  "nbformat": 4,
  "nbformat_minor": 0,
  "metadata": {
    "colab": {
      "provenance": [],
      "authorship_tag": "ABX9TyOKikVkRNHchzj2quIHdkFN",
      "include_colab_link": true
    },
    "kernelspec": {
      "name": "python3",
      "display_name": "Python 3"
    },
    "language_info": {
      "name": "python"
    }
  },
  "cells": [
    {
      "cell_type": "markdown",
      "metadata": {
        "id": "view-in-github",
        "colab_type": "text"
      },
      "source": [
        "<a href=\"https://colab.research.google.com/github/zhukuixi/Pytorch_tutorial/blob/main/softmaxRegression_MNIST.ipynb\" target=\"_parent\"><img src=\"https://colab.research.google.com/assets/colab-badge.svg\" alt=\"Open In Colab\"/></a>"
      ]
    },
    {
      "cell_type": "code",
      "execution_count": null,
      "metadata": {
        "id": "ypaNkC9VdCjl"
      },
      "outputs": [],
      "source": [
        "import torch\n",
        "import pandas as pd\n",
        "import numpy as np"
      ]
    },
    {
      "cell_type": "code",
      "source": [
        "!pip install git+https://github.com/d2l-ai/d2l-zh@release  # installing d2l\n",
        "!pip install matplotlib_inline\n",
        "import torch\n",
        "from IPython import display\n",
        "from d2l import torch as d2l\n",
        "import numpy as np\n",
        "\n"
      ],
      "metadata": {
        "id": "m6HBNuOTdETJ"
      },
      "execution_count": null,
      "outputs": []
    },
    {
      "cell_type": "code",
      "source": [
        "# metric - accuracy\n",
        "def accuracy(y_hat,y):\n",
        "  #“==”opearation is sensitive to dype \n",
        "  # we need to do the dtype transformation before == operation\n",
        "  if len(y_hat)>1 and y_hat.shape[1]>1:\n",
        "      y_hat = y_hat.argmax(axis=1)\n",
        "  return (y_hat.type(y.dtype)==y).sum()"
      ],
      "metadata": {
        "id": "p10HJbCcg5Cg"
      },
      "execution_count": null,
      "outputs": []
    },
    {
      "cell_type": "code",
      "source": [
        "class logisticNet(torch.nn.Module):\n",
        "  def __init__(self):\n",
        "    super().__init__()\n",
        "    self.flatten = torch.nn.Flatten()\n",
        "    self.linear = torch.nn.Linear(784,10)\n",
        "  def forward(self,x):\n",
        "    return torch.sigmoid(self.linear(self.flatten(x)))\n",
        "\n",
        "train_iter,test_iter = d2l.load_data_fashion_mnist(50)\n",
        "net = logisticNet()\n",
        "lossFun = torch.nn.CrossEntropyLoss(reduction='none')\n",
        "optimizier = torch.optim.SGD(net.parameters(),lr=0.1)\n",
        "\n",
        "for epoch in np.arange(100):\n",
        "  for X,y in train_iter:\n",
        "    optimizier.zero_grad()\n",
        "    y_hat = net(X)\n",
        "    loss = lossFun(y_hat, y)  \n",
        "    loss.mean().backward()\n",
        "    optimizier.step()\n",
        "    print(\"{:.3}\".format(loss.mean().item()))\n",
        "\n",
        "    with torch.no_grad():\n",
        "      acc = 0      \n",
        "      count = 0 \n",
        "      for X_test,y_test in test_iter:\n",
        "        acc += accuracy(net(X_test),y_test)\n",
        "        count += y_test.numel()\n",
        "      print(\"test accuracy:{:.3}\".format(acc/count))\n",
        "      \n",
        "\n"
      ],
      "metadata": {
        "id": "4NF_i3SLdVgJ"
      },
      "execution_count": null,
      "outputs": []
    }
  ]
}